{
    "cells": [
        {
            "attachments": {},
            "cell_type": "markdown",
            "metadata": {
                "azdata_cell_guid": "2e372011-0533-47ca-9892-aef7b274715f"
            },
            "source": [
                "## **Generate SQL-files**"
            ]
        },
        {
            "cell_type": "code",
            "execution_count": 1,
            "metadata": {
                "azdata_cell_guid": "638a17be-f9bf-4426-a745-a0b210042188",
                "language": "python",
                "tags": []
            },
            "outputs": [
                {
                    "name": "stdout",
                    "output_type": "stream",
                    "text": [
                        "tables : 4\n",
                        "constraints : 3\n",
                        "Database creation files created successfully! Total files created: 7\n"
                    ]
                }
            ],
            "source": [
                "from visiosql import SqlGen\n",
                "import os\n",
                "\n",
                "file = 'diagram.vsdx'\n",
                "gen = SqlGen(file, auto_extract=True, schema='dbo')\n",
                "\n",
                "file_counts = []\n",
                "for folder in ['tables', 'constraints']:\n",
                "    folder_path = os.getcwd() + '\\\\scripts\\\\' + folder + '\\\\'\n",
                "    file_count = gen.create_files(folder, folder_path)\n",
                "    file_counts.append(file_count)\n",
                "\n",
                "print('Database creation files created successfully!', 'Total files created:', sum(file_counts))"
            ]
        },
        {
            "attachments": {},
            "cell_type": "markdown",
            "metadata": {
                "azdata_cell_guid": "e5d60bfe-9e6c-42bc-8735-de048a583da0"
            },
            "source": [
                "## **Execute SQL<span style=\"color: #000000;\">-</span>files**"
            ]
        },
        {
            "cell_type": "code",
            "execution_count": 1,
            "metadata": {
                "azdata_cell_guid": "3ef5f1af-a4ad-4654-a056-8166cf9f49cf",
                "language": "python",
                "tags": []
            },
            "outputs": [
                {
                    "name": "stdout",
                    "output_type": "stream",
                    "text": [
                        "Executing files...\n",
                        "tables : 4\n",
                        "constraints : 3\n",
                        "Database ojects created succesfully!\n"
                    ]
                }
            ],
            "source": [
                "import pyodbc\n",
                "import glob\n",
                "import os\n",
                "from secret import conn_str\n",
                "\n",
                "def get_sql(fname):\n",
                "    with open(fname, 'r') as f: \n",
                "        return f.read()\n",
                "\n",
                "conn = pyodbc.connect(conn_str)\n",
                "errs = 0\n",
                "print('Executing files...')\n",
                "for folder in ['tables', 'constraints']:\n",
                "    folder_path = os.getcwd() + '\\\\scripts\\\\' + folder + '\\\\'\n",
                "    print(folder, ':', len(os.listdir(folder_path)))\n",
                "    for filepath in glob.iglob(folder_path + '*.sql'):\n",
                "        try:\n",
                "            conn.execute(get_sql(filepath))\n",
                "        except Exception as e:\n",
                "            errs += 1\n",
                "            print('Error', errs, ':', filepath, e)\n",
                "if errs:\n",
                "    print('Execution failed!', 'Errors in', errs, 'files found.')\n",
                "else:\n",
                "    conn.commit()\n",
                "    print('Database ojects created succesfully!')\n"
            ]
        },
        {
            "attachments": {},
            "cell_type": "markdown",
            "metadata": {
                "azdata_cell_guid": "7af4226e-8764-467e-8054-f882069d07af"
            },
            "source": [
                "## **Visualize Relationships**"
            ]
        },
        {
            "cell_type": "code",
            "execution_count": null,
            "metadata": {
                "azdata_cell_guid": "18103a30-ab0b-417f-a945-ca3a2d0e61a7",
                "language": "python"
            },
            "outputs": [],
            "source": [
                "import pyodbc\n",
                "import graphviz\n",
                "import os\n",
                "from secret import conn_str\n",
                "\n",
                "os.environ[\"PATH\"] += os.pathsep + 'C:/Program Files/Graphviz/bin/'\n",
                "g = graphviz.Graph('G', filename='relationships.gv')\n",
                "\n",
                "conn = pyodbc.connect(conn_str)\n",
                "cur = conn.execute(\"\"\"\n",
                "SELECT p.Name, r.Name FROM Person p\n",
                "    JOIN Residence r ON p.ResidenceId=r.ResidenceId\n",
                "UNION\n",
                "SELECT p.Name, f.Name FROM Person p\n",
                "    JOIN Family f ON p.FamilyId=f.FamilyId\n",
                "\"\"\")\n",
                "rows = cur.fetchall()\n",
                "\n",
                "for row in rows:\n",
                "    parent = row[0]\n",
                "    child = row[1]\n",
                "    g.node(parent, labelloc='b', image=f'images\\\\{parent}.png')\n",
                "    g.node(child, labelloc='b', image=f'images\\\\{child}.png')\n",
                "    g.edge(parent, child)\n",
                "\n",
                "g.view()"
            ]
        }
    ],
    "metadata": {
        "kernelspec": {
            "display_name": "Python 3 (ipykernel)",
            "language": "python",
            "name": "python3"
        },
        "language_info": {
            "codemirror_mode": {
                "name": "ipython",
                "version": 3
            },
            "file_extension": ".py",
            "mimetype": "text/x-python",
            "name": "python",
            "nbconvert_exporter": "python",
            "pygments_lexer": "ipython3",
            "version": "3.8.10"
        }
    },
    "nbformat": 4,
    "nbformat_minor": 2
}
