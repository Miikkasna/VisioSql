{
    "metadata": {
        "kernelspec": {
            "name": "python3",
            "display_name": "Python 3 (ipykernel)",
            "language": "python"
        },
        "language_info": {
            "name": "python",
            "version": "3.8.10",
            "mimetype": "text/x-python",
            "codemirror_mode": {
                "name": "ipython",
                "version": 3
            },
            "pygments_lexer": "ipython3",
            "nbconvert_exporter": "python",
            "file_extension": ".py"
        }
    },
    "nbformat_minor": 2,
    "nbformat": 4,
    "cells": [
        {
            "cell_type": "markdown",
            "source": [
                "## **Generate SQL-files**"
            ],
            "metadata": {
                "azdata_cell_guid": "2e372011-0533-47ca-9892-aef7b274715f"
            },
            "attachments": {}
        },
        {
            "cell_type": "code",
            "source": [
                "from visiosql import SqlGen\n",
                "import os\n",
                "import glob\n",
                "\n",
                "file = 'diagram.vsdx'\n",
                "gen = SqlGen(file, auto_extract=True, schema='dbo')\n",
                "\n",
                "file_counts = []\n",
                "for folder in ['tables', 'constraints']:\n",
                "    folder_path = os.getcwd() + '\\\\scripts\\\\' + folder + '\\\\'\n",
                "    file_count = gen.create_files(folder, folder_path)\n",
                "    file_counts.append(file_count)\n",
                "\n",
                "print('Database creation files created successfully!', 'Total files created:', sum(file_counts))"
            ],
            "metadata": {
                "azdata_cell_guid": "638a17be-f9bf-4426-a745-a0b210042188",
                "language": "python",
                "tags": []
            },
            "outputs": [
                {
                    "output_type": "stream",
                    "name": "stdout",
                    "text": "tables : 4\nconstraints : 3\nDatabase creation files created successfully! Total files created: 7\n"
                }
            ],
            "execution_count": 1
        },
        {
            "cell_type": "markdown",
            "source": [
                "## **Execute SQL<span style=\"color: #000000;\">-</span>files**"
            ],
            "metadata": {
                "azdata_cell_guid": "e5d60bfe-9e6c-42bc-8735-de048a583da0"
            },
            "attachments": {}
        },
        {
            "cell_type": "code",
            "source": [
                "import pyodbc\n",
                "import glob\n",
                "import os\n",
                "from secret import conn_str\n",
                "\n",
                "def get_sql(fname):\n",
                "    with open(fname, 'r') as f: \n",
                "        return f.read()\n",
                "\n",
                "conn = pyodbc.connect(conn_str)\n",
                "errs = 0\n",
                "print('Executing files...')\n",
                "for folder in ['tables', 'constraints']:\n",
                "    folder_path = os.getcwd() + '\\\\scripts\\\\' + folder + '\\\\'\n",
                "    print(folder, ':', len(os.listdir(folder_path)))\n",
                "    for filepath in glob.iglob(folder_path + '*.sql'):\n",
                "        try:\n",
                "            conn.execute(get_sql(filepath))\n",
                "        except Exception as e:\n",
                "            errs += 1\n",
                "            print('Error', errs, ':', filepath, e)\n",
                "if errs:\n",
                "    print('Execution failed!', 'Errors in', errs, 'files found.')\n",
                "else:\n",
                "    conn.commit()\n",
                "    print('Database ojects created succesfully!')\n",
                ""
            ],
            "metadata": {
                "azdata_cell_guid": "3ef5f1af-a4ad-4654-a056-8166cf9f49cf",
                "language": "python",
                "tags": []
            },
            "outputs": [
                {
                    "name": "stdout",
                    "text": "Executing files...\ntables : 4\nconstraints : 3\nDatabase ojects created succesfully!\n",
                    "output_type": "stream"
                }
            ],
            "execution_count": 1
        },
        {
            "cell_type": "markdown",
            "source": [
                "## **Visualize Relationships**"
            ],
            "metadata": {
                "azdata_cell_guid": "7af4226e-8764-467e-8054-f882069d07af"
            },
            "attachments": {}
        },
        {
            "cell_type": "code",
            "source": [
                "import pyodbc\r\n",
                "import graphviz\r\n",
                "import os\r\n",
                "from secret import conn_str\r\n",
                "\r\n",
                "os.environ[\"PATH\"] += os.pathsep + 'C:/Program Files/Graphviz/bin/'\r\n",
                "g = graphviz.Graph('G', filename='relationships.gv')\r\n",
                "\r\n",
                "conn = pyodbc.connect(conn_str)\r\n",
                "cur = conn.execute(\"\"\"\r\n",
                "SELECT p.Name, r.Name FROM Person p\r\n",
                "    JOIN Residence r ON p.ResidenceId=r.ResidenceId\r\n",
                "UNION\r\n",
                "SELECT p.Name, f.Name FROM Person p\r\n",
                "    JOIN Family f ON p.FamilyId=f.FamilyId\r\n",
                "\"\"\")\r\n",
                "rows = cur.fetchall()\r\n",
                "\r\n",
                "for row in rows:\r\n",
                "    parent = row[0]\r\n",
                "    child = row[1]\r\n",
                "    g.node(parent, labelloc='b', image=f'images\\\\{parent}.png')\r\n",
                "    g.node(child, labelloc='b', image=f'images\\\\{child}.png')\r\n",
                "    g.edge(parent, child)\r\n",
                "\r\n",
                "g.view()"
            ],
            "metadata": {
                "azdata_cell_guid": "18103a30-ab0b-417f-a945-ca3a2d0e61a7",
                "language": "python"
            },
            "outputs": [],
            "execution_count": null
        }
    ]
}